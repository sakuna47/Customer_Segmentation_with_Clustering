{
  "nbformat": 4,
  "nbformat_minor": 0,
  "metadata": {
    "colab": {
      "provenance": [],
      "authorship_tag": "ABX9TyOzCnKSzO+AbTSqGXg6CIxk",
      "include_colab_link": true
    },
    "kernelspec": {
      "name": "python3",
      "display_name": "Python 3"
    },
    "language_info": {
      "name": "python"
    }
  },
  "cells": [
    {
      "cell_type": "markdown",
      "metadata": {
        "id": "view-in-github",
        "colab_type": "text"
      },
      "source": [
        "<a href=\"https://colab.research.google.com/github/sakuna47/Customer_Segmentation_with_Clustering/blob/Front_End/Front_end_py.ipynb\" target=\"_parent\"><img src=\"https://colab.research.google.com/assets/colab-badge.svg\" alt=\"Open In Colab\"/></a>"
      ]
    },
    {
      "cell_type": "code",
      "execution_count": null,
      "metadata": {
        "id": "jzzgS-F0SkkA"
      },
      "outputs": [],
      "source": [
        "# Import libraries\n",
        "import streamlit as st\n",
        "import pandas as pd\n",
        "import matplotlib.pyplot as plt\n",
        "import seaborn as sns\n",
        "\n",
        "# Load the clustered data\n",
        "@st.cache\n",
        "def load_data():\n",
        "    return pd.read_csv('clustered_customers.csv')\n",
        "\n",
        "df = load_data()\n",
        "\n",
        "# Title of the app\n",
        "st.title('Customer Segmentation with K-Means Clustering')\n",
        "\n",
        "# Display the dataset\n",
        "st.write(\"### Clustered Customer Data\")\n",
        "st.write(df)\n",
        "\n",
        "# Plot the clusters\n",
        "st.write(\"### Customer Segmentation Visualization\")\n",
        "fig, ax = plt.subplots(figsize=(10, 6))\n",
        "sns.scatterplot(x='Annual Income (k$)', y='Spending Score (1-100)', hue='Cluster', data=df, palette='viridis', ax=ax)\n",
        "st.pyplot(fig)\n",
        "\n",
        "# Add a sidebar for user input\n",
        "st.sidebar.header(\"Filter Data by Cluster\")\n",
        "selected_cluster = st.sidebar.selectbox(\"Select Cluster\", df['Cluster'].unique())\n",
        "filtered_data = df[df['Cluster'] == selected_cluster]\n",
        "st.write(f\"### Customers in Cluster {selected_cluster}\")\n",
        "st.write(filtered_data)"
      ]
    }
  ]
}