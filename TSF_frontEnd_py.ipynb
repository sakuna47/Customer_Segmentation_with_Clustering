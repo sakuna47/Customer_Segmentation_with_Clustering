{
  "nbformat": 4,
  "nbformat_minor": 0,
  "metadata": {
    "colab": {
      "provenance": [],
      "authorship_tag": "ABX9TyP7vBXhkiAM3sMC/Ec4mJ7+",
      "include_colab_link": true
    },
    "kernelspec": {
      "name": "python3",
      "display_name": "Python 3"
    },
    "language_info": {
      "name": "python"
    }
  },
  "cells": [
    {
      "cell_type": "markdown",
      "metadata": {
        "id": "view-in-github",
        "colab_type": "text"
      },
      "source": [
        "<a href=\"https://colab.research.google.com/github/sakuna47/Customer_Segmentation_with_Clustering/blob/Front_End/TSF_frontEnd_py.ipynb\" target=\"_parent\"><img src=\"https://colab.research.google.com/assets/colab-badge.svg\" alt=\"Open In Colab\"/></a>"
      ]
    },
    {
      "cell_type": "code",
      "execution_count": null,
      "metadata": {
        "id": "KEgBBhjWIgSb"
      },
      "outputs": [],
      "source": [
        "# Build a Streamlit app for interactive visualization\n",
        "import streamlit as st\n",
        "import pandas as pd\n",
        "import matplotlib.pyplot as plt\n",
        "import joblib\n",
        "\n",
        "url = \"https://raw.githubusercontent.com/jbrownlee/Datasets/master/airline-passengers.csv\"\n",
        "df = pd.read_csv(url, parse_dates=['Month'], index_col='Month')\n",
        "\n",
        "model = joblib.load('prophet_model.pkl')\n",
        "\n",
        "st.title('Time Series Forecasting with Prophet')\n",
        "st.write(\"### Airline Passengers Dataset\")\n",
        "st.write(df)\n",
        "\n",
        "future = model.make_future_dataframe(periods=12, freq='M')\n",
        "forecast = model.predict(future)\n",
        "\n",
        "st.write(\"### Forecasted Passengers\")\n",
        "fig, ax = plt.subplots(figsize=(10, 6))\n",
        "ax.plot(df.index, df['Passengers'], label='Historical Data')\n",
        "ax.plot(forecast['ds'], forecast['yhat'], label='Forecasted Data', color='red')\n",
        "ax.fill_between(forecast['ds'], forecast['yhat_lower'], forecast['yhat_upper'], color='pink', alpha=0.3)\n",
        "plt.title('Prophet Forecasting')\n",
        "plt.xlabel('Date')\n",
        "plt.ylabel('Number of Passengers')\n",
        "plt.legend()\n",
        "st.pyplot(fig)\n"
      ]
    }
  ]
}